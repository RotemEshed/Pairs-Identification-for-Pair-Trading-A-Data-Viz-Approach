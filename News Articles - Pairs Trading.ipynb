{
 "cells": [
  {
   "cell_type": "code",
   "execution_count": 250,
   "metadata": {
    "scrolled": true
   },
   "outputs": [],
   "source": [
    "import pandas as pd\n",
    "import sqlite3\n",
    "import networkx as nx\n",
    "import matplotlib.pyplot as plt\n",
    "from ipywidgets import interact\n",
    "import ipywidgets as widgets\n",
    "import numpy as np\n",
    "import yfinance as yf\n",
    "import plotly.express as px\n",
    "import plotly.graph_objects as go\n",
    "import statsmodels.api as sm\n",
    "from statsmodels.tsa.stattools import adfuller\n",
    "\n",
    "from plotly.offline import download_plotlyjs, init_notebook_mode, iplot\n",
    "import plotly"
   ]
  },
  {
   "cell_type": "code",
   "execution_count": 3,
   "metadata": {},
   "outputs": [
    {
     "data": {
      "text/html": [
       "<div>\n",
       "<style scoped>\n",
       "    .dataframe tbody tr th:only-of-type {\n",
       "        vertical-align: middle;\n",
       "    }\n",
       "\n",
       "    .dataframe tbody tr th {\n",
       "        vertical-align: top;\n",
       "    }\n",
       "\n",
       "    .dataframe thead th {\n",
       "        text-align: right;\n",
       "    }\n",
       "</style>\n",
       "<table border=\"1\" class=\"dataframe\">\n",
       "  <thead>\n",
       "    <tr style=\"text-align: right;\">\n",
       "      <th></th>\n",
       "      <th>value</th>\n",
       "      <th>name</th>\n",
       "      <th>article_count</th>\n",
       "    </tr>\n",
       "  </thead>\n",
       "  <tbody>\n",
       "    <tr>\n",
       "      <th>0</th>\n",
       "      <td>A</td>\n",
       "      <td>Agilent Technologies, Inc</td>\n",
       "      <td>192</td>\n",
       "    </tr>\n",
       "    <tr>\n",
       "      <th>1</th>\n",
       "      <td>AA</td>\n",
       "      <td>Alcoa Corporation</td>\n",
       "      <td>117</td>\n",
       "    </tr>\n",
       "    <tr>\n",
       "      <th>2</th>\n",
       "      <td>AAALF</td>\n",
       "      <td>Aareal Bank AG</td>\n",
       "      <td>0</td>\n",
       "    </tr>\n",
       "    <tr>\n",
       "      <th>3</th>\n",
       "      <td>AAALY</td>\n",
       "      <td>Aareal Bank AG</td>\n",
       "      <td>0</td>\n",
       "    </tr>\n",
       "    <tr>\n",
       "      <th>4</th>\n",
       "      <td>AAARF</td>\n",
       "      <td>Aluar Aluminio Argentino S.A.I.C</td>\n",
       "      <td>0</td>\n",
       "    </tr>\n",
       "    <tr>\n",
       "      <th>5</th>\n",
       "      <td>AABB</td>\n",
       "      <td>Asia Broadband, Inc</td>\n",
       "      <td>0</td>\n",
       "    </tr>\n",
       "    <tr>\n",
       "      <th>6</th>\n",
       "      <td>AABVF</td>\n",
       "      <td>Aberdeen International Inc</td>\n",
       "      <td>0</td>\n",
       "    </tr>\n",
       "    <tr>\n",
       "      <th>7</th>\n",
       "      <td>AACAF</td>\n",
       "      <td>AAC Technologies Holdings Inc</td>\n",
       "      <td>0</td>\n",
       "    </tr>\n",
       "    <tr>\n",
       "      <th>8</th>\n",
       "      <td>AACAY</td>\n",
       "      <td>AAC Technologies Holdings Inc</td>\n",
       "      <td>0</td>\n",
       "    </tr>\n",
       "    <tr>\n",
       "      <th>9</th>\n",
       "      <td>AACG</td>\n",
       "      <td>ATA Creativity Global</td>\n",
       "      <td>2</td>\n",
       "    </tr>\n",
       "  </tbody>\n",
       "</table>\n",
       "</div>"
      ],
      "text/plain": [
       "   value                              name  article_count\n",
       "0      A         Agilent Technologies, Inc            192\n",
       "1     AA                 Alcoa Corporation            117\n",
       "2  AAALF                    Aareal Bank AG              0\n",
       "3  AAALY                    Aareal Bank AG              0\n",
       "4  AAARF  Aluar Aluminio Argentino S.A.I.C              0\n",
       "5   AABB               Asia Broadband, Inc              0\n",
       "6  AABVF        Aberdeen International Inc              0\n",
       "7  AACAF     AAC Technologies Holdings Inc              0\n",
       "8  AACAY     AAC Technologies Holdings Inc              0\n",
       "9   AACG             ATA Creativity Global              2"
      ]
     },
     "metadata": {},
     "output_type": "display_data"
    },
    {
     "data": {
      "text/plain": [
       "(19619, 3)"
      ]
     },
     "execution_count": 3,
     "metadata": {},
     "output_type": "execute_result"
    }
   ],
   "source": [
    "con = sqlite3.connect(\"DVA-data-prod\")\n",
    "q = \"select * from tickers\"\n",
    "article_count_complete = pd.read_sql_query(q, con)\n",
    "con.close()\n",
    "\n",
    "article_count = article_count_complete.rename(columns={\"ticker\": \"value\"})\n",
    "display(article_count[:10])\n",
    "article_count.shape"
   ]
  },
  {
   "cell_type": "code",
   "execution_count": 9,
   "metadata": {},
   "outputs": [
    {
     "data": {
      "text/plain": [
       "(29131246, 4)"
      ]
     },
     "execution_count": 9,
     "metadata": {},
     "output_type": "execute_result"
    }
   ],
   "source": [
    "con = sqlite3.connect(\"DVA-data-prod\")\n",
    "q = \"select * from news_articles\"\n",
    "news = pd.read_sql_query(q, con)\n",
    "con.close()\n",
    "\n",
    "news.shape"
   ]
  },
  {
   "cell_type": "code",
   "execution_count": 10,
   "metadata": {},
   "outputs": [
    {
     "data": {
      "text/html": [
       "<div>\n",
       "<style scoped>\n",
       "    .dataframe tbody tr th:only-of-type {\n",
       "        vertical-align: middle;\n",
       "    }\n",
       "\n",
       "    .dataframe tbody tr th {\n",
       "        vertical-align: top;\n",
       "    }\n",
       "\n",
       "    .dataframe thead th {\n",
       "        text-align: right;\n",
       "    }\n",
       "</style>\n",
       "<table border=\"1\" class=\"dataframe\">\n",
       "  <thead>\n",
       "    <tr style=\"text-align: right;\">\n",
       "      <th></th>\n",
       "      <th>article_id</th>\n",
       "      <th>ticker1</th>\n",
       "      <th>ticker2</th>\n",
       "      <th>publication_date</th>\n",
       "    </tr>\n",
       "  </thead>\n",
       "  <tbody>\n",
       "    <tr>\n",
       "      <th>0</th>\n",
       "      <td>1997dc291dc36e43fe9f8beb431f6be1</td>\n",
       "      <td>A</td>\n",
       "      <td>GOOGL</td>\n",
       "      <td>2020-04-08T17:54:08.179Z</td>\n",
       "    </tr>\n",
       "    <tr>\n",
       "      <th>1</th>\n",
       "      <td>1997dc291dc36e43fe9f8beb431f6be1</td>\n",
       "      <td>A</td>\n",
       "      <td>BRK/A</td>\n",
       "      <td>2020-04-08T17:54:08.179Z</td>\n",
       "    </tr>\n",
       "    <tr>\n",
       "      <th>2</th>\n",
       "      <td>1997dc291dc36e43fe9f8beb431f6be1</td>\n",
       "      <td>A</td>\n",
       "      <td>JNJ</td>\n",
       "      <td>2020-04-08T17:54:08.179Z</td>\n",
       "    </tr>\n",
       "    <tr>\n",
       "      <th>3</th>\n",
       "      <td>1997dc291dc36e43fe9f8beb431f6be1</td>\n",
       "      <td>A</td>\n",
       "      <td>AMZN</td>\n",
       "      <td>2020-04-08T17:54:08.179Z</td>\n",
       "    </tr>\n",
       "    <tr>\n",
       "      <th>4</th>\n",
       "      <td>b6d76307caef5efa6880f13af2cefe4a</td>\n",
       "      <td>A</td>\n",
       "      <td>GOOGL</td>\n",
       "      <td>2020-04-07T23:20:05.135Z</td>\n",
       "    </tr>\n",
       "    <tr>\n",
       "      <th>5</th>\n",
       "      <td>b6d76307caef5efa6880f13af2cefe4a</td>\n",
       "      <td>A</td>\n",
       "      <td>LOW</td>\n",
       "      <td>2020-04-07T23:20:05.135Z</td>\n",
       "    </tr>\n",
       "    <tr>\n",
       "      <th>6</th>\n",
       "      <td>b6d76307caef5efa6880f13af2cefe4a</td>\n",
       "      <td>A</td>\n",
       "      <td>LBTYA</td>\n",
       "      <td>2020-04-07T23:20:05.135Z</td>\n",
       "    </tr>\n",
       "    <tr>\n",
       "      <th>7</th>\n",
       "      <td>b6d76307caef5efa6880f13af2cefe4a</td>\n",
       "      <td>A</td>\n",
       "      <td>HPQ</td>\n",
       "      <td>2020-04-07T23:20:05.135Z</td>\n",
       "    </tr>\n",
       "    <tr>\n",
       "      <th>8</th>\n",
       "      <td>b6d76307caef5efa6880f13af2cefe4a</td>\n",
       "      <td>A</td>\n",
       "      <td>BRK/A</td>\n",
       "      <td>2020-04-07T23:20:05.135Z</td>\n",
       "    </tr>\n",
       "    <tr>\n",
       "      <th>9</th>\n",
       "      <td>b6d76307caef5efa6880f13af2cefe4a</td>\n",
       "      <td>A</td>\n",
       "      <td>EBAY</td>\n",
       "      <td>2020-04-07T23:20:05.135Z</td>\n",
       "    </tr>\n",
       "  </tbody>\n",
       "</table>\n",
       "</div>"
      ],
      "text/plain": [
       "                         article_id ticker1 ticker2          publication_date\n",
       "0  1997dc291dc36e43fe9f8beb431f6be1       A   GOOGL  2020-04-08T17:54:08.179Z\n",
       "1  1997dc291dc36e43fe9f8beb431f6be1       A   BRK/A  2020-04-08T17:54:08.179Z\n",
       "2  1997dc291dc36e43fe9f8beb431f6be1       A     JNJ  2020-04-08T17:54:08.179Z\n",
       "3  1997dc291dc36e43fe9f8beb431f6be1       A    AMZN  2020-04-08T17:54:08.179Z\n",
       "4  b6d76307caef5efa6880f13af2cefe4a       A   GOOGL  2020-04-07T23:20:05.135Z\n",
       "5  b6d76307caef5efa6880f13af2cefe4a       A     LOW  2020-04-07T23:20:05.135Z\n",
       "6  b6d76307caef5efa6880f13af2cefe4a       A   LBTYA  2020-04-07T23:20:05.135Z\n",
       "7  b6d76307caef5efa6880f13af2cefe4a       A     HPQ  2020-04-07T23:20:05.135Z\n",
       "8  b6d76307caef5efa6880f13af2cefe4a       A   BRK/A  2020-04-07T23:20:05.135Z\n",
       "9  b6d76307caef5efa6880f13af2cefe4a       A    EBAY  2020-04-07T23:20:05.135Z"
      ]
     },
     "metadata": {},
     "output_type": "display_data"
    }
   ],
   "source": [
    "display(news[:10])"
   ]
  },
  {
   "cell_type": "code",
   "execution_count": 14,
   "metadata": {},
   "outputs": [
    {
     "data": {
      "text/plain": [
       "[('Agilent Technologies, Inc', 'A'),\n",
       " ('Alcoa Corporation', 'AA'),\n",
       " ('Aareal Bank AG', 'AAALF')]"
      ]
     },
     "execution_count": 14,
     "metadata": {},
     "output_type": "execute_result"
    }
   ],
   "source": [
    "# Options for dropdown\n",
    "\n",
    "US_ticks = pd.read_csv(\"US_LIST_OF_SYMBOLS.csv\")\n",
    "US_ticks = US_ticks[US_ticks['Type']==\"Common Stock\"]\n",
    "US_ticks = US_ticks.rename(columns={\"Code\": \"value\", \"Name\": \"label\"})\n",
    "\n",
    "us_ticks = US_ticks.to_dict(orient='records')\n",
    "drop = ['Country', 'Exchange', 'Currency', 'Type']\n",
    "for i in us_ticks:\n",
    "    for key in drop:\n",
    "        i.pop(key)\n",
    "    \n",
    "ticks = []\n",
    "for i, j in enumerate(us_ticks):\n",
    "    tup = (j['label'], j['value'])\n",
    "    ticks.append(tup)\n",
    "ticks[0:3]"
   ]
  },
  {
   "cell_type": "code",
   "execution_count": 15,
   "metadata": {},
   "outputs": [
    {
     "name": "stdout",
     "output_type": "stream",
     "text": [
      "(7871, 8)\n"
     ]
    }
   ],
   "source": [
    "############################ Get Company name (label) and Ticker (value) ##########################################\n",
    "US_ticks = pd.read_csv(\"US_LIST_OF_SYMBOLS.csv\")\n",
    "US_ticks = US_ticks[US_ticks['Type']==\"Common Stock\"]\n",
    "US_ticks = US_ticks.rename(columns={\"Code\": \"value\", \"Name\": \"label\"})\n",
    "US_ticks = US_ticks.sort_values(by=['value'])\n",
    "US_ticks = US_ticks.merge(article_count, on='value', how='left')\n",
    "US_ticks = US_ticks[US_ticks['article_count'] != 0] # remove tickers with 0 article count\n",
    "\n",
    "print(US_ticks.shape)\n",
    "\n",
    "\n",
    "us_ticks = US_ticks.to_dict(orient='records')\n",
    "drop = ['Country', 'Exchange', 'Currency', 'Type']\n",
    "for i in us_ticks:\n",
    "    for key in drop:\n",
    "        i.pop(key)\n",
    "    \n",
    "ticks = []\n",
    "for i in us_ticks:\n",
    "    tup = (i['label'], i['value'])\n",
    "    ticks.append(tup)\n",
    "ticks.insert(0, (\"\",\"\"))"
   ]
  },
  {
   "cell_type": "code",
   "execution_count": 226,
   "metadata": {},
   "outputs": [
    {
     "data": {
      "application/javascript": [
       "IPython.OutputArea.prototype._should_scroll = function(lines) {\n",
       "    return false;\n",
       "}\n"
      ],
      "text/plain": [
       "<IPython.core.display.Javascript object>"
      ]
     },
     "metadata": {},
     "output_type": "display_data"
    }
   ],
   "source": [
    "%%javascript\n",
    "IPython.OutputArea.prototype._should_scroll = function(lines) {\n",
    "    return false;\n",
    "}"
   ]
  },
  {
   "cell_type": "code",
   "execution_count": 492,
   "metadata": {
    "scrolled": true
   },
   "outputs": [
    {
     "data": {
      "application/vnd.jupyter.widget-view+json": {
       "model_id": "587ca4dc575b479594ec247220359063",
       "version_major": 2,
       "version_minor": 0
      },
      "text/plain": [
       "interactive(children=(Dropdown(description='Ticker', options=(('', ''), ('Agilent Technologies, Inc', 'A'), ('…"
      ]
     },
     "metadata": {},
     "output_type": "display_data"
    }
   ],
   "source": [
    "############################# Create Network Graph ############################################\n",
    "def network_graph(Ticker):\n",
    "    tic_filter = news[news['ticker1']==Ticker]\n",
    "    tic_top6 = tic_filter.groupby(['ticker2']).size().reset_index(name='count').sort_values(['count'], ascending=False)\n",
    "    tic_top6 = tic_top6.iloc[:6]\n",
    "    tic_list = tic_top6['ticker2'].tolist()\n",
    "    tic_list.insert(0, Ticker)\n",
    "    tic_list.insert(0, \"\")\n",
    "    tic_top6['ticker1'] = Ticker\n",
    "    w = tic_top6['count'].tolist()\n",
    "    weights = [np.sqrt(k)/1.5 for k in w]\n",
    "    G = nx.from_pandas_edgelist(tic_top6, source='ticker1', target='ticker2')\n",
    "    nx.draw(G, with_labels=True, node_color='skyblue', node_size=1500, width=weights)\n",
    "###############     \n",
    "    def on_button_clicked(ticker_1, ticker_2):\n",
    "    # Get prices data\n",
    "        d = {}\n",
    "        tickers_list = [ticker_1, ticker_2]\n",
    "        tickers_string = ticker_1+\" \"+ticker_2\n",
    "        data = yf.download(tickers_string, start=start_date.value, end=end_date.value, group_by=\"ticker\")\n",
    "        for ticker in tickers_list:\n",
    "            d[ticker] = data[ticker]['Adj Close']\n",
    "        df = pd.DataFrame(data=d)\n",
    "        \n",
    "    # Plot prices\n",
    "        df_plot = pd.DataFrame(data=d)\n",
    "        df_plot.reset_index(level=0, inplace=True)\n",
    "        df_plot = pd.melt(df_plot, id_vars=['Date'], value_vars=[ticker_1, ticker_2])\n",
    "        df_plot = df_plot.rename(columns={\"variable\": \"Ticker\", \"value\": \"Price\"})        \n",
    "        fig = px.line(df_plot, x=\"Date\", y=\"Price\", color=\"Ticker\")\n",
    "        fig.show()\n",
    "      \n",
    "    # Engle_Granger test\n",
    "        X = df.iloc[:,0]\n",
    "        Y = df.iloc[:,1]\n",
    "        model = sm.OLS(X, Y)\n",
    "        model = model.fit()\n",
    "        df['spread'] = X - model.params[0] * Y\n",
    "\n",
    "    # Plot spread line\n",
    "        df_spread = df.copy()\n",
    "        df_spread.reset_index(level=0, inplace=True)    \n",
    "        fig = px.line(df_spread, x=\"Date\", y=\"spread\")\n",
    "        fig.add_hline(y=df['spread'].mean(axis=0), line_dash=\"dot\",\n",
    "                     annotation_text=\"spread mean\",\n",
    "                     annotation_position=\"bottom left\")\n",
    "        fig.add_hline(y=df['spread'].std()*2,\n",
    "                     annotation_text=\"+2std\",\n",
    "                     annotation_position=\"bottom left\")\n",
    "        fig.add_hline(y=df['spread'].std()*-2,\n",
    "                     annotation_text=\"-2std\",\n",
    "                     annotation_position=\"bottom left\")\n",
    "        fig.show()\n",
    "\n",
    "#     ADF test on spread to test for stationary\n",
    "        adf = adfuller(df['spread'],regression='nc', maxlag=1)\n",
    "\n",
    "    # Key values output\n",
    "        test_statistic = adf[0]\n",
    "        p_value = adf[1]\n",
    "        number_of_observations = adf[3]\n",
    "        critical_values = adf[4]\n",
    "        confidence_level = (1-p_value)*100\n",
    " \n",
    "        fig = go.Figure(go.Indicator(\n",
    "        domain = {'x': [0, 1], 'y': [0, 1]},\n",
    "        value = confidence_level,\n",
    "        mode = \"gauge+number\",\n",
    "        title = {'text': \"Cointegration Score\"},\n",
    "        gauge = {'axis': {'range': [None, 100]},\n",
    "                 'bar': {'color': \"darkblue\"},\n",
    "                 'steps' : [\n",
    "                     {'range': [0, 90], 'color': \"red\"},\n",
    "                     {'range': [90, 95], 'color': \"yellow\"},\n",
    "                     {'range': [95, 99], 'color': \"greenyellow\"},\n",
    "                     {'range': [99, 100], 'color': \"green\"}],\n",
    "                 'threshold' : {'line': {'color': \"black\", 'width': 4}, 'thickness': 0.75, 'value': 100}}))\n",
    "\n",
    "        fig.show()\n",
    "######################################################\n",
    "    \n",
    "    start_date = widgets.DatePicker(description='Start Date',value=pd.to_datetime('2020-01-02'))\n",
    "    end_date = widgets.DatePicker(description='End Date', value=pd.to_datetime('2020-11-01'))\n",
    "#     display(start_date, end_date)\n",
    "    display(widgets.HBox([start_date, end_date]))\n",
    "    \n",
    "    widgets.interact_manual(on_button_clicked, ticker_1 = tic_list, ticker_2 = tic_list)\n",
    "##############    \n",
    "###########################################################################\n",
    "interact(network_graph, Ticker=ticks);"
   ]
  }
 ],
 "metadata": {
  "kernelspec": {
   "display_name": "Python 3",
   "language": "python",
   "name": "python3"
  },
  "language_info": {
   "codemirror_mode": {
    "name": "ipython",
    "version": 3
   },
   "file_extension": ".py",
   "mimetype": "text/x-python",
   "name": "python",
   "nbconvert_exporter": "python",
   "pygments_lexer": "ipython3",
   "version": "3.7.7"
  }
 },
 "nbformat": 4,
 "nbformat_minor": 4
}
